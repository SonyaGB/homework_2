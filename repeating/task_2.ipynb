{
 "cells": [
  {
   "cell_type": "markdown",
   "metadata": {},
   "source": [
    "# Задание 2\n",
    "\n",
    "Создать 5 двумерных массивов разной формы из массива a. Не использовать в аргументах метода reshape число -1."
   ]
  },
  {
   "cell_type": "code",
   "execution_count": 35,
   "metadata": {},
   "outputs": [
    {
     "name": "stdout",
     "output_type": "stream",
     "text": [
      "[[12 13 14 15 16 17]\n",
      " [18 19 20 21 22 23]]\n",
      "\n",
      "[[12 13 14 15 16]\n",
      " [17 18 19 20 21]]\n",
      "\n",
      "[[15 16 17]\n",
      " [18 19 20]]\n",
      "\n",
      "[[20 21]\n",
      " [22 23]]\n",
      "\n",
      "[[15 16 17 18]\n",
      " [19 20 21 22]]\n"
     ]
    }
   ],
   "source": [
    "import numpy as np\n",
    "\n",
    "a = np.arange(12,24)\n",
    "array_1 = np.reshape(a, (2, 6))\n",
    "print(array_1)\n",
    "print()\n",
    "array_2 = np.reshape(a[:10], (2, 5))\n",
    "print(array_2)\n",
    "print()\n",
    "array_3 = np.reshape(a[3:9], (2, 3))\n",
    "print(array_3)\n",
    "print()\n",
    "array_4 = np.reshape(a[8:], (2, 2))\n",
    "print(array_4)\n",
    "print()\n",
    "array_5 = np.reshape(a[3:11], (2, 4))\n",
    "print(array_5)"
   ]
  }
 ],
 "metadata": {
  "kernelspec": {
   "display_name": "Python 3",
   "language": "python",
   "name": "python3"
  },
  "language_info": {
   "codemirror_mode": {
    "name": "ipython",
    "version": 3
   },
   "file_extension": ".py",
   "mimetype": "text/x-python",
   "name": "python",
   "nbconvert_exporter": "python",
   "pygments_lexer": "ipython3",
   "version": "3.7.4"
  }
 },
 "nbformat": 4,
 "nbformat_minor": 2
}
