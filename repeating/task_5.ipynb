{
 "cells": [
  {
   "cell_type": "markdown",
   "metadata": {},
   "source": [
    "# Задание 5\n",
    "\n",
    "Создать массив из 3 строк и 4 столбцов, состоящий из случайных чисел с плавающей запятой из нормального распределения со средним, равным 0 и среднеквадратичным отклонением, равным 1.0. Получить из этого массива одномерный массив с таким же атрибутом size, как и исходный массив."
   ]
  },
  {
   "cell_type": "code",
   "execution_count": 3,
   "metadata": {},
   "outputs": [
    {
     "name": "stdout",
     "output_type": "stream",
     "text": [
      "12\n",
      "[[0.99428317 0.41287948 0.10214628 0.65029584]\n",
      " [0.24010844 0.08478541 0.34968452 0.33241064]\n",
      " [0.42873653 0.50139959 0.58763493 0.75217113]]\n",
      "\n",
      "12\n",
      "[[0.99428317 0.41287948 0.10214628 0.65029584 0.24010844 0.08478541\n",
      "  0.34968452 0.33241064 0.42873653 0.50139959 0.58763493 0.75217113]]\n"
     ]
    }
   ],
   "source": [
    "import numpy as np\n",
    "\n",
    "array = np.random.rand(3,4)\n",
    "print(array.size)\n",
    "print(array)\n",
    "print()\n",
    "new_array = np.reshape(array, (1, -1))\n",
    "print(new_array.size)\n",
    "print(new_array)"
   ]
  }
 ],
 "metadata": {
  "kernelspec": {
   "display_name": "Python 3",
   "language": "python",
   "name": "python3"
  },
  "language_info": {
   "codemirror_mode": {
    "name": "ipython",
    "version": 3
   },
   "file_extension": ".py",
   "mimetype": "text/x-python",
   "name": "python",
   "nbconvert_exporter": "python",
   "pygments_lexer": "ipython3",
   "version": "3.7.4"
  }
 },
 "nbformat": 4,
 "nbformat_minor": 2
}
