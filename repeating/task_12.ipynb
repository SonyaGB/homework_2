{
 "cells": [
  {
   "cell_type": "markdown",
   "metadata": {},
   "source": [
    "# Задание 12\n",
    "\n",
    "Поменяйте его форму так, чтобы получилась квадратная матрица C. Получите матрицу D, поэлементно прибавив матрицу B из предыдущего вопроса к матрице C, умноженной на 10. Вычислите определитель, ранг и обратную матрицу D_inv для D."
   ]
  },
  {
   "cell_type": "code",
   "execution_count": 7,
   "metadata": {},
   "outputs": [
    {
     "name": "stdout",
     "output_type": "stream",
     "text": [
      "Определитель D: 5.18953807259442e-26\n",
      "\n",
      "Ранг D: 2\n",
      "\n",
      "Обратная матрица D: \n",
      " [[ 4.66062690e+13 -1.49229688e+13 -1.09972869e+14  7.82895692e+13]\n",
      " [ 1.63480451e+14 -3.81454387e+14  2.72467419e+14 -5.44934838e+13]\n",
      " [-4.66779710e+14  8.07677680e+14 -2.15016230e+14 -1.25881740e+14]\n",
      " [ 2.56692989e+14 -4.11300324e+14  5.25216801e+13  1.02085655e+14]]\n"
     ]
    }
   ],
   "source": [
    "import numpy as np\n",
    "\n",
    "C = np.reshape(np.arange(0, 16), (4, 4))\n",
    "A = np.reshape(np.arange(0, 12), (4, 3))\n",
    "B = np.dot(A, A.T)\n",
    "D = np.add(B, 10 * C)\n",
    "D_inv = np.linalg.inv(D)\n",
    "print(f'Определитель D: {np.linalg.det(D)}')\n",
    "print()\n",
    "print(f'Ранг D: {np.linalg.matrix_rank(D)}')\n",
    "print()\n",
    "print(f'Обратная матрица D: \\n {D_inv}')"
   ]
  }
 ],
 "metadata": {
  "kernelspec": {
   "display_name": "Python 3",
   "language": "python",
   "name": "python3"
  },
  "language_info": {
   "codemirror_mode": {
    "name": "ipython",
    "version": 3
   },
   "file_extension": ".py",
   "mimetype": "text/x-python",
   "name": "python",
   "nbconvert_exporter": "python",
   "pygments_lexer": "ipython3",
   "version": "3.7.4"
  }
 },
 "nbformat": 4,
 "nbformat_minor": 2
}
