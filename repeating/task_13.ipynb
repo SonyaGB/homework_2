{
 "cells": [
  {
   "cell_type": "markdown",
   "metadata": {},
   "source": [
    "# Задание 13\n",
    "\n",
    "Приравняйте к нулю отрицательные числа в матрице D_inv, а положительные - к единице. Убедитесь, что в матрице D_inv остались только нули и единицы. С помощью функции numpy.where, используя матрицу D_inv в качестве маски, а матрицы B и C - в качестве источников данных, получите матрицу E размером 4x4.  Элементы матрицы E, для которых соответствующий элемент матрицы D_inv равен 1, должны быть равны соответствующему элементу матрицы B, а элементы матрицы E, для которых соответствующий элемент матрицы D_inv равен 0, должны быть равны соответствующему элементу матрицы C."
   ]
  },
  {
   "cell_type": "code",
   "execution_count": 7,
   "metadata": {},
   "outputs": [
    {
     "name": "stdout",
     "output_type": "stream",
     "text": [
      "[[1. 0. 0. 1.]\n",
      " [1. 0. 1. 0.]\n",
      " [0. 1. 0. 0.]\n",
      " [1. 0. 1. 1.]]\n",
      "\n",
      "[[  5   1   2  32]\n",
      " [ 14   5  86   7]\n",
      " [  8  86  10  11]\n",
      " [ 32  13 212 302]]\n"
     ]
    }
   ],
   "source": [
    "import numpy as np\n",
    "\n",
    "C = np.reshape(np.arange(0, 16), (4, 4))\n",
    "A = np.reshape(np.arange(0, 12), (4, 3))\n",
    "B = np.dot(A, A.T)\n",
    "D = np.add(B, 10 * C)\n",
    "D_inv = np.linalg.inv(D)\n",
    "for i in range(4):\n",
    "    for j in range(4):\n",
    "        if D_inv[i][j] < 0:\n",
    "            D_inv[i][j] = 0\n",
    "        if D_inv[i][j] > 0:\n",
    "            D_inv[i][j] = 1\n",
    "print(D_inv)\n",
    "print()\n",
    "E = np.where(D_inv, B, C)\n",
    "print(E)"
   ]
  }
 ],
 "metadata": {
  "kernelspec": {
   "display_name": "Python 3",
   "language": "python",
   "name": "python3"
  },
  "language_info": {
   "codemirror_mode": {
    "name": "ipython",
    "version": 3
   },
   "file_extension": ".py",
   "mimetype": "text/x-python",
   "name": "python",
   "nbconvert_exporter": "python",
   "pygments_lexer": "ipython3",
   "version": "3.7.4"
  }
 },
 "nbformat": 4,
 "nbformat_minor": 2
}
